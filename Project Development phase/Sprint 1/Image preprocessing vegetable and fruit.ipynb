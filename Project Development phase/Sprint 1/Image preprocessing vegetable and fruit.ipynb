{
  "nbformat": 4,
  "nbformat_minor": 0,
  "metadata": {
    "colab": {
      "provenance": []
    },
    "kernelspec": {
      "name": "python3",
      "display_name": "Python 3"
    },
    "language_info": {
      "name": "python"
    },
    "gpuClass": "standard"
  },
  "cells": [
    {
      "cell_type": "code",
      "source": [
        "from tensorflow.keras.preprocessing.image import ImageDataGenerator"
      ],
      "metadata": {
        "id": "bdbB0gRZn7vz"
      },
      "execution_count": 2,
      "outputs": []
    },
    {
      "cell_type": "code",
      "source": [
        "train_datagen=ImageDataGenerator(rescale=1./255,\n",
        "                                 shear_range=0.1,\n",
        "                                 zoom_range=0.1,\n",
        "                                 horizontal_flip=True)"
      ],
      "metadata": {
        "id": "hRPpE463pk1b"
      },
      "execution_count": 3,
      "outputs": []
    },
    {
      "cell_type": "code",
      "source": [
        "test_datagen=ImageDataGenerator(rescale=1./255)"
      ],
      "metadata": {
        "id": "QEthIKXvp7Eo"
      },
      "execution_count": 4,
      "outputs": []
    },
    {
      "cell_type": "code",
      "source": [
        "trainPath = \"/content/Dataset Plant Disease/Veg-dataset/Veg-dataset/train_set\"\n",
        "testPath = \"/content/Dataset Plant Disease/Veg-dataset/Veg-dataset/test_set\"\n",
        "training_set=train_datagen.flow_from_directory(trainPath,\n",
        "                                               target_size=(224,224),\n",
        "                                               batch_size=10,\n",
        "                                               class_mode='categorical')\n",
        "test_set=test_datagen.flow_from_directory(testPath,\n",
        "                                               target_size=(224,224),\n",
        "                                               batch_size=10,\n",
        "                                               class_mode='categorical')"
      ],
      "metadata": {
        "colab": {
          "base_uri": "https://localhost:8080/"
        },
        "id": "iqSnMySUqA2E",
        "outputId": "d23ca3eb-205f-4994-d551-5d8c4d7ab3bb"
      },
      "execution_count": 5,
      "outputs": [
        {
          "output_type": "stream",
          "name": "stdout",
          "text": [
            "Found 11386 images belonging to 9 classes.\n",
            "Found 3416 images belonging to 9 classes.\n"
          ]
        }
      ]
    },
    {
      "cell_type": "code",
      "source": [
        "trainPath = \"/content/Dataset Plant Disease/fruit-dataset/fruit-dataset/train\"\n",
        "testPath = \"/content/Dataset Plant Disease/fruit-dataset/fruit-dataset/test\"\n",
        "training_set=train_datagen.flow_from_directory(trainPath,\n",
        "                                               target_size=(224,224),\n",
        "                                               batch_size=10,\n",
        "                                               class_mode='categorical')\n",
        "test_set=test_datagen.flow_from_directory(testPath,\n",
        "                                               target_size=(224,224),\n",
        "                                               batch_size=10,\n",
        "                                               class_mode='categorical')"
      ],
      "metadata": {
        "colab": {
          "base_uri": "https://localhost:8080/"
        },
        "id": "4yLXpORKq9Jo",
        "outputId": "3300dc27-7887-42fa-f380-2f983141649e"
      },
      "execution_count": 6,
      "outputs": [
        {
          "output_type": "stream",
          "name": "stdout",
          "text": [
            "Found 5384 images belonging to 6 classes.\n",
            "Found 1686 images belonging to 6 classes.\n"
          ]
        }
      ]
    }
  ]
}